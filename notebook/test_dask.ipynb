{
 "cells": [
  {
   "cell_type": "code",
   "execution_count": null,
   "id": "1c486c63-17ad-4c13-9767-7cccea7d1db3",
   "metadata": {},
   "outputs": [],
   "source": [
    "import numpy as np\n",
    "import dask.array as da\n",
    "import prx.constants\n"
   ]
  },
  {
   "cell_type": "code",
   "execution_count": null,
   "id": "2dfb2511-9b53-4e65-a99a-91a8166d88bc",
   "metadata": {},
   "outputs": [],
   "source": [
    "# test if numpy has been imported\n",
    "array = np.eye(2)\n",
    "print(array)"
   ]
  },
  {
   "cell_type": "code",
   "execution_count": null,
   "id": "5a468f82-a59d-4e86-b022-9c13eb09c544",
   "metadata": {},
   "outputs": [],
   "source": [
    "# test if prx.constants has been imported by printing all its attributes or methods\n",
    "dir(prx.constants)\n"
   ]
  },
  {
   "cell_type": "code",
   "execution_count": null,
   "id": "38d48677-01e7-4a21-8f58-749d31e34d45",
   "metadata": {},
   "outputs": [],
   "source": [
    "# test if dask.array has been imported\n",
    "dask_array = da.ones(10, chunks=5)\n",
    "print(dask_array)\n"
   ]
  }
 ],
 "metadata": {
  "kernelspec": {
   "display_name": "Python 3 (ipykernel)",
   "language": "python",
   "name": "python3"
  },
  "language_info": {
   "codemirror_mode": {
    "name": "ipython",
    "version": 3
   },
   "file_extension": ".py",
   "mimetype": "text/x-python",
   "name": "python",
   "nbconvert_exporter": "python",
   "pygments_lexer": "ipython3",
   "version": "3.11.4"
  }
 },
 "nbformat": 4,
 "nbformat_minor": 5
}
